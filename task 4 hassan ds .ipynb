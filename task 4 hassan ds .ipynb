{
 "cells": [
  {
   "cell_type": "markdown",
   "id": "0d7f9b16",
   "metadata": {},
   "source": [
    "# import necessary libs "
   ]
  },
  {
   "cell_type": "code",
   "execution_count": 15,
   "id": "6d4cf7cd",
   "metadata": {},
   "outputs": [],
   "source": [
    "import pandas as pd\n",
    "import numpy as np\n",
    "from sklearn.model_selection import train_test_split\n",
    "from sklearn.linear_model import LinearRegression\n",
    "from sklearn.metrics import mean_squared_error"
   ]
  },
  {
   "cell_type": "markdown",
   "id": "53da5a71",
   "metadata": {},
   "source": [
    "## read dataset "
   ]
  },
  {
   "cell_type": "code",
   "execution_count": 16,
   "id": "9ea505e8",
   "metadata": {},
   "outputs": [],
   "source": [
    "data = pd.read_csv(r\"C:/Users/Hassan/Downloads/advertising.csv\")\n",
    "## change this path according to your download "
   ]
  },
  {
   "cell_type": "markdown",
   "id": "321ead78",
   "metadata": {},
   "source": [
    "## perform some eda"
   ]
  },
  {
   "cell_type": "code",
   "execution_count": 5,
   "id": "40c074f7",
   "metadata": {},
   "outputs": [
    {
     "name": "stdout",
     "output_type": "stream",
     "text": [
      "      TV  Radio  Newspaper  Sales\n",
      "0  230.1   37.8       69.2   22.1\n",
      "1   44.5   39.3       45.1   10.4\n",
      "2   17.2   45.9       69.3   12.0\n",
      "3  151.5   41.3       58.5   16.5\n",
      "4  180.8   10.8       58.4   17.9\n",
      "<class 'pandas.core.frame.DataFrame'>\n",
      "RangeIndex: 200 entries, 0 to 199\n",
      "Data columns (total 4 columns):\n",
      " #   Column     Non-Null Count  Dtype  \n",
      "---  ------     --------------  -----  \n",
      " 0   TV         200 non-null    float64\n",
      " 1   Radio      200 non-null    float64\n",
      " 2   Newspaper  200 non-null    float64\n",
      " 3   Sales      200 non-null    float64\n",
      "dtypes: float64(4)\n",
      "memory usage: 6.4 KB\n"
     ]
    }
   ],
   "source": [
    "print(data.head())\n",
    "data.info()"
   ]
  },
  {
   "cell_type": "markdown",
   "id": "b6d0d76e",
   "metadata": {},
   "source": [
    "## train test split "
   ]
  },
  {
   "cell_type": "code",
   "execution_count": 6,
   "id": "2da5ff63",
   "metadata": {},
   "outputs": [],
   "source": [
    "xdata = data[['TV', 'Radio', 'Newspaper']]  \n",
    "ydata = data['Sales']"
   ]
  },
  {
   "cell_type": "code",
   "execution_count": 7,
   "id": "c5f754cd",
   "metadata": {},
   "outputs": [],
   "source": [
    "xtrn, xtst, ytrn, ytst = train_test_split(xdata, ydata, test_size=0.2, random_state=42)"
   ]
  },
  {
   "cell_type": "markdown",
   "id": "43440661",
   "metadata": {},
   "source": [
    "## apply linear regression model "
   ]
  },
  {
   "cell_type": "code",
   "execution_count": 17,
   "id": "d662e077",
   "metadata": {},
   "outputs": [
    {
     "data": {
      "text/plain": [
       "LinearRegression()"
      ]
     },
     "execution_count": 17,
     "metadata": {},
     "output_type": "execute_result"
    }
   ],
   "source": [
    "model = LinearRegression()\n",
    "model.fit(X_train, y_train)"
   ]
  },
  {
   "cell_type": "markdown",
   "id": "1fbf43f0",
   "metadata": {},
   "source": [
    "### make predictions "
   ]
  },
  {
   "cell_type": "code",
   "execution_count": 9,
   "id": "89016bbd",
   "metadata": {},
   "outputs": [],
   "source": [
    "predictions = model.predict(xtst)\n"
   ]
  },
  {
   "cell_type": "markdown",
   "id": "5b6baba3",
   "metadata": {},
   "source": [
    "### evaluations "
   ]
  },
  {
   "cell_type": "code",
   "execution_count": 11,
   "id": "0db3e2c0",
   "metadata": {},
   "outputs": [
    {
     "name": "stdout",
     "output_type": "stream",
     "text": [
      "Mean Squared Error: 2.91 %.\n"
     ]
    }
   ],
   "source": [
    "mse = mean_squared_error(ytst, predictions)\n",
    "print(\"Mean Squared Error:\", round(mse,2),\"%.\")"
   ]
  },
  {
   "cell_type": "code",
   "execution_count": 12,
   "id": "fb112ee5",
   "metadata": {},
   "outputs": [
    {
     "name": "stdout",
     "output_type": "stream",
     "text": [
      "Coefficients: [0.05450927 0.10094536 0.00433665]\n"
     ]
    }
   ],
   "source": [
    "print(\"Coefficients:\", model.coef_)"
   ]
  },
  {
   "cell_type": "code",
   "execution_count": 14,
   "id": "6874cdb6",
   "metadata": {},
   "outputs": [
    {
     "name": "stdout",
     "output_type": "stream",
     "text": [
      "Intercept: 4.71\n"
     ]
    }
   ],
   "source": [
    "print(\"Intercept:\", round(model.intercept_,2))"
   ]
  },
  {
   "cell_type": "code",
   "execution_count": null,
   "id": "a8e0f4ca",
   "metadata": {},
   "outputs": [],
   "source": []
  },
  {
   "cell_type": "code",
   "execution_count": null,
   "id": "bd7eeed2",
   "metadata": {},
   "outputs": [],
   "source": []
  },
  {
   "cell_type": "code",
   "execution_count": null,
   "id": "89ec8571",
   "metadata": {},
   "outputs": [],
   "source": []
  },
  {
   "cell_type": "code",
   "execution_count": null,
   "id": "3ab02370",
   "metadata": {},
   "outputs": [],
   "source": []
  },
  {
   "cell_type": "code",
   "execution_count": null,
   "id": "149de351",
   "metadata": {},
   "outputs": [],
   "source": []
  },
  {
   "cell_type": "code",
   "execution_count": null,
   "id": "222e04fe",
   "metadata": {},
   "outputs": [],
   "source": []
  },
  {
   "cell_type": "code",
   "execution_count": null,
   "id": "cfac0fce",
   "metadata": {},
   "outputs": [],
   "source": []
  },
  {
   "cell_type": "code",
   "execution_count": null,
   "id": "fac408ff",
   "metadata": {},
   "outputs": [],
   "source": []
  },
  {
   "cell_type": "code",
   "execution_count": null,
   "id": "a1825170",
   "metadata": {},
   "outputs": [],
   "source": []
  },
  {
   "cell_type": "code",
   "execution_count": null,
   "id": "626cbd29",
   "metadata": {},
   "outputs": [],
   "source": []
  }
 ],
 "metadata": {
  "kernelspec": {
   "display_name": "Python 3 (ipykernel)",
   "language": "python",
   "name": "python3"
  },
  "language_info": {
   "codemirror_mode": {
    "name": "ipython",
    "version": 3
   },
   "file_extension": ".py",
   "mimetype": "text/x-python",
   "name": "python",
   "nbconvert_exporter": "python",
   "pygments_lexer": "ipython3",
   "version": "3.9.13"
  }
 },
 "nbformat": 4,
 "nbformat_minor": 5
}
