{
 "cells": [
  {
   "cell_type": "markdown",
   "id": "2027f165",
   "metadata": {},
   "source": [
    "## libraries section"
   ]
  },
  {
   "cell_type": "code",
   "execution_count": 12,
   "id": "68e5d341",
   "metadata": {},
   "outputs": [],
   "source": [
    "import pandas as pd\n",
    "from sklearn.model_selection import train_test_split\n",
    "from sklearn.linear_model import LinearRegression\n",
    "from sklearn.metrics import r2_score\n",
    "from sklearn.preprocessing import LabelEncoder\n"
   ]
  },
  {
   "cell_type": "markdown",
   "id": "5501f685",
   "metadata": {},
   "source": [
    "## read datset "
   ]
  },
  {
   "cell_type": "code",
   "execution_count": 30,
   "id": "d7ac9828",
   "metadata": {},
   "outputs": [
    {
     "data": {
      "text/html": [
       "<div>\n",
       "<style scoped>\n",
       "    .dataframe tbody tr th:only-of-type {\n",
       "        vertical-align: middle;\n",
       "    }\n",
       "\n",
       "    .dataframe tbody tr th {\n",
       "        vertical-align: top;\n",
       "    }\n",
       "\n",
       "    .dataframe thead th {\n",
       "        text-align: right;\n",
       "    }\n",
       "</style>\n",
       "<table border=\"1\" class=\"dataframe\">\n",
       "  <thead>\n",
       "    <tr style=\"text-align: right;\">\n",
       "      <th></th>\n",
       "      <th>PassengerId</th>\n",
       "      <th>Survived</th>\n",
       "      <th>Pclass</th>\n",
       "      <th>Name</th>\n",
       "      <th>Sex</th>\n",
       "      <th>Age</th>\n",
       "      <th>SibSp</th>\n",
       "      <th>Parch</th>\n",
       "      <th>Ticket</th>\n",
       "      <th>Fare</th>\n",
       "      <th>Cabin</th>\n",
       "      <th>Embarked</th>\n",
       "    </tr>\n",
       "  </thead>\n",
       "  <tbody>\n",
       "    <tr>\n",
       "      <th>0</th>\n",
       "      <td>1</td>\n",
       "      <td>0</td>\n",
       "      <td>3</td>\n",
       "      <td>Braund, Mr. Owen Harris</td>\n",
       "      <td>male</td>\n",
       "      <td>22.0</td>\n",
       "      <td>1</td>\n",
       "      <td>0</td>\n",
       "      <td>A/5 21171</td>\n",
       "      <td>7.2500</td>\n",
       "      <td>NaN</td>\n",
       "      <td>S</td>\n",
       "    </tr>\n",
       "    <tr>\n",
       "      <th>1</th>\n",
       "      <td>2</td>\n",
       "      <td>1</td>\n",
       "      <td>1</td>\n",
       "      <td>Cumings, Mrs. John Bradley (Florence Briggs Th...</td>\n",
       "      <td>female</td>\n",
       "      <td>38.0</td>\n",
       "      <td>1</td>\n",
       "      <td>0</td>\n",
       "      <td>PC 17599</td>\n",
       "      <td>71.2833</td>\n",
       "      <td>C85</td>\n",
       "      <td>C</td>\n",
       "    </tr>\n",
       "    <tr>\n",
       "      <th>2</th>\n",
       "      <td>3</td>\n",
       "      <td>1</td>\n",
       "      <td>3</td>\n",
       "      <td>Heikkinen, Miss. Laina</td>\n",
       "      <td>female</td>\n",
       "      <td>26.0</td>\n",
       "      <td>0</td>\n",
       "      <td>0</td>\n",
       "      <td>STON/O2. 3101282</td>\n",
       "      <td>7.9250</td>\n",
       "      <td>NaN</td>\n",
       "      <td>S</td>\n",
       "    </tr>\n",
       "    <tr>\n",
       "      <th>3</th>\n",
       "      <td>4</td>\n",
       "      <td>1</td>\n",
       "      <td>1</td>\n",
       "      <td>Futrelle, Mrs. Jacques Heath (Lily May Peel)</td>\n",
       "      <td>female</td>\n",
       "      <td>35.0</td>\n",
       "      <td>1</td>\n",
       "      <td>0</td>\n",
       "      <td>113803</td>\n",
       "      <td>53.1000</td>\n",
       "      <td>C123</td>\n",
       "      <td>S</td>\n",
       "    </tr>\n",
       "    <tr>\n",
       "      <th>4</th>\n",
       "      <td>5</td>\n",
       "      <td>0</td>\n",
       "      <td>3</td>\n",
       "      <td>Allen, Mr. William Henry</td>\n",
       "      <td>male</td>\n",
       "      <td>35.0</td>\n",
       "      <td>0</td>\n",
       "      <td>0</td>\n",
       "      <td>373450</td>\n",
       "      <td>8.0500</td>\n",
       "      <td>NaN</td>\n",
       "      <td>S</td>\n",
       "    </tr>\n",
       "    <tr>\n",
       "      <th>...</th>\n",
       "      <td>...</td>\n",
       "      <td>...</td>\n",
       "      <td>...</td>\n",
       "      <td>...</td>\n",
       "      <td>...</td>\n",
       "      <td>...</td>\n",
       "      <td>...</td>\n",
       "      <td>...</td>\n",
       "      <td>...</td>\n",
       "      <td>...</td>\n",
       "      <td>...</td>\n",
       "      <td>...</td>\n",
       "    </tr>\n",
       "    <tr>\n",
       "      <th>886</th>\n",
       "      <td>887</td>\n",
       "      <td>0</td>\n",
       "      <td>2</td>\n",
       "      <td>Montvila, Rev. Juozas</td>\n",
       "      <td>male</td>\n",
       "      <td>27.0</td>\n",
       "      <td>0</td>\n",
       "      <td>0</td>\n",
       "      <td>211536</td>\n",
       "      <td>13.0000</td>\n",
       "      <td>NaN</td>\n",
       "      <td>S</td>\n",
       "    </tr>\n",
       "    <tr>\n",
       "      <th>887</th>\n",
       "      <td>888</td>\n",
       "      <td>1</td>\n",
       "      <td>1</td>\n",
       "      <td>Graham, Miss. Margaret Edith</td>\n",
       "      <td>female</td>\n",
       "      <td>19.0</td>\n",
       "      <td>0</td>\n",
       "      <td>0</td>\n",
       "      <td>112053</td>\n",
       "      <td>30.0000</td>\n",
       "      <td>B42</td>\n",
       "      <td>S</td>\n",
       "    </tr>\n",
       "    <tr>\n",
       "      <th>888</th>\n",
       "      <td>889</td>\n",
       "      <td>0</td>\n",
       "      <td>3</td>\n",
       "      <td>Johnston, Miss. Catherine Helen \"Carrie\"</td>\n",
       "      <td>female</td>\n",
       "      <td>NaN</td>\n",
       "      <td>1</td>\n",
       "      <td>2</td>\n",
       "      <td>W./C. 6607</td>\n",
       "      <td>23.4500</td>\n",
       "      <td>NaN</td>\n",
       "      <td>S</td>\n",
       "    </tr>\n",
       "    <tr>\n",
       "      <th>889</th>\n",
       "      <td>890</td>\n",
       "      <td>1</td>\n",
       "      <td>1</td>\n",
       "      <td>Behr, Mr. Karl Howell</td>\n",
       "      <td>male</td>\n",
       "      <td>26.0</td>\n",
       "      <td>0</td>\n",
       "      <td>0</td>\n",
       "      <td>111369</td>\n",
       "      <td>30.0000</td>\n",
       "      <td>C148</td>\n",
       "      <td>C</td>\n",
       "    </tr>\n",
       "    <tr>\n",
       "      <th>890</th>\n",
       "      <td>891</td>\n",
       "      <td>0</td>\n",
       "      <td>3</td>\n",
       "      <td>Dooley, Mr. Patrick</td>\n",
       "      <td>male</td>\n",
       "      <td>32.0</td>\n",
       "      <td>0</td>\n",
       "      <td>0</td>\n",
       "      <td>370376</td>\n",
       "      <td>7.7500</td>\n",
       "      <td>NaN</td>\n",
       "      <td>Q</td>\n",
       "    </tr>\n",
       "  </tbody>\n",
       "</table>\n",
       "<p>891 rows × 12 columns</p>\n",
       "</div>"
      ],
      "text/plain": [
       "     PassengerId  Survived  Pclass  \\\n",
       "0              1         0       3   \n",
       "1              2         1       1   \n",
       "2              3         1       3   \n",
       "3              4         1       1   \n",
       "4              5         0       3   \n",
       "..           ...       ...     ...   \n",
       "886          887         0       2   \n",
       "887          888         1       1   \n",
       "888          889         0       3   \n",
       "889          890         1       1   \n",
       "890          891         0       3   \n",
       "\n",
       "                                                  Name     Sex   Age  SibSp  \\\n",
       "0                              Braund, Mr. Owen Harris    male  22.0      1   \n",
       "1    Cumings, Mrs. John Bradley (Florence Briggs Th...  female  38.0      1   \n",
       "2                               Heikkinen, Miss. Laina  female  26.0      0   \n",
       "3         Futrelle, Mrs. Jacques Heath (Lily May Peel)  female  35.0      1   \n",
       "4                             Allen, Mr. William Henry    male  35.0      0   \n",
       "..                                                 ...     ...   ...    ...   \n",
       "886                              Montvila, Rev. Juozas    male  27.0      0   \n",
       "887                       Graham, Miss. Margaret Edith  female  19.0      0   \n",
       "888           Johnston, Miss. Catherine Helen \"Carrie\"  female   NaN      1   \n",
       "889                              Behr, Mr. Karl Howell    male  26.0      0   \n",
       "890                                Dooley, Mr. Patrick    male  32.0      0   \n",
       "\n",
       "     Parch            Ticket     Fare Cabin Embarked  \n",
       "0        0         A/5 21171   7.2500   NaN        S  \n",
       "1        0          PC 17599  71.2833   C85        C  \n",
       "2        0  STON/O2. 3101282   7.9250   NaN        S  \n",
       "3        0            113803  53.1000  C123        S  \n",
       "4        0            373450   8.0500   NaN        S  \n",
       "..     ...               ...      ...   ...      ...  \n",
       "886      0            211536  13.0000   NaN        S  \n",
       "887      0            112053  30.0000   B42        S  \n",
       "888      2        W./C. 6607  23.4500   NaN        S  \n",
       "889      0            111369  30.0000  C148        C  \n",
       "890      0            370376   7.7500   NaN        Q  \n",
       "\n",
       "[891 rows x 12 columns]"
      ]
     },
     "execution_count": 30,
     "metadata": {},
     "output_type": "execute_result"
    }
   ],
   "source": [
    "df2 = r\"C:\\Users\\Hassan\\Downloads\\Titanic-Dataset.csv\"\n",
    "df2 = pd.read_csv(df2)\n",
    "df2"
   ]
  },
  {
   "cell_type": "markdown",
   "id": "9a3d5f64",
   "metadata": {},
   "source": [
    "## perform eda"
   ]
  },
  {
   "cell_type": "code",
   "execution_count": 31,
   "id": "f81e3bc9",
   "metadata": {},
   "outputs": [],
   "source": [
    "# Drop irrelevant columns or columns with too many missing values\n",
    "df2.drop(['Name', 'Ticket', 'Cabin'], axis=1, inplace=True)"
   ]
  },
  {
   "cell_type": "code",
   "execution_count": 32,
   "id": "a8eab816",
   "metadata": {},
   "outputs": [],
   "source": [
    "# Fill missing values for age with median\n",
    "df2['Age'].fillna(df['Age'].median(), inplace=True)"
   ]
  },
  {
   "cell_type": "markdown",
   "id": "81285dee",
   "metadata": {},
   "source": [
    "### label encoding for categorical variables "
   ]
  },
  {
   "cell_type": "code",
   "execution_count": 33,
   "id": "115ee25f",
   "metadata": {},
   "outputs": [],
   "source": [
    "label_encoder = LabelEncoder()\n",
    "df2['Sex'] = label_encoder.fit_transform(df2['Sex'])\n",
    "df2['Embarked'] = label_encoder.fit_transform(df2['Embarked'])\n"
   ]
  },
  {
   "cell_type": "code",
   "execution_count": 34,
   "id": "f325de95",
   "metadata": {},
   "outputs": [],
   "source": [
    "X = df2.drop('Survived', axis=1)  \n",
    "y = df2['Survived']\n"
   ]
  },
  {
   "cell_type": "markdown",
   "id": "71f7abc0",
   "metadata": {},
   "source": [
    "## train test split"
   ]
  },
  {
   "cell_type": "code",
   "execution_count": 35,
   "id": "e33cd07c",
   "metadata": {},
   "outputs": [],
   "source": [
    "xtr, xts, ytr, yts = train_test_split(X, y, test_size=0.2, random_state=42)"
   ]
  },
  {
   "cell_type": "markdown",
   "id": "50f09891",
   "metadata": {},
   "source": [
    "## linear regression model for prediction"
   ]
  },
  {
   "cell_type": "code",
   "execution_count": 36,
   "id": "4f6b6da3",
   "metadata": {},
   "outputs": [
    {
     "data": {
      "text/plain": [
       "LinearRegression()"
      ]
     },
     "execution_count": 36,
     "metadata": {},
     "output_type": "execute_result"
    }
   ],
   "source": [
    "lr = LinearRegression()\n",
    "lr.fit(xtr, ytr)"
   ]
  },
  {
   "cell_type": "markdown",
   "id": "7f60d761",
   "metadata": {},
   "source": [
    "## make prediction"
   ]
  },
  {
   "cell_type": "code",
   "execution_count": 38,
   "id": "10b079ed",
   "metadata": {},
   "outputs": [
    {
     "name": "stderr",
     "output_type": "stream",
     "text": [
      "C:\\Users\\rahim\\anaconda3\\lib\\site-packages\\sklearn\\base.py:493: FutureWarning: The feature names should match those that were passed during fit. Starting version 1.2, an error will be raised.\n",
      "Feature names unseen at fit time:\n",
      "- Fare\n",
      "Feature names seen at fit time, yet now missing:\n",
      "- Survived\n",
      "\n",
      "  warnings.warn(message, FutureWarning)\n"
     ]
    },
    {
     "data": {
      "text/plain": [
       "array([ 230.31413614,  142.94395703,  136.37682146,  468.98488996,\n",
       "        233.72952761,  932.05869459,  164.55202024,  252.08738031,\n",
       "        182.68922709,  375.76021252,  597.84193061,  100.72226309,\n",
       "        355.73431094,  132.01501006,  162.59475522,  520.41010938,\n",
       "        585.30471335,  166.23722515,  177.60576764,  570.44390672,\n",
       "        128.68072489,  310.99367275,  169.14643786,  150.32062395,\n",
       "        195.81311378,  383.1874745 ,  333.75100325,  170.99847915,\n",
       "        390.61981578,  151.32927906,  137.66981584,  163.35669411,\n",
       "        386.60178238,  152.19749146,  139.34506659,  216.97220096,\n",
       "        417.69572364,  164.3169516 ,  420.57961431,  123.58985962,\n",
       "        850.7601732 ,  112.03983595,  125.51285033,  132.10621512,\n",
       "        228.44426208,  449.66544944,  138.69219517,  144.96819117,\n",
       "        119.17818058, 1261.20172834,  342.55708802, 1060.65438051,\n",
       "        348.28746047, 1387.34616131,   74.35408077,  965.68325056,\n",
       "        140.56445917, 2777.74898728,  285.44119344,  179.14595416,\n",
       "        132.20121932,  309.06738006,  351.60895903,  312.64649389,\n",
       "        130.73728594,  137.52977946,  850.77341958,  121.10127383,\n",
       "        158.49485838,  906.52094339,  360.35794109, 2996.02434795,\n",
       "        382.22318484,  986.75253027,  130.99415012,  195.22917219,\n",
       "        161.80550975,  647.63397141,  193.14156649,  283.63467458,\n",
       "        496.45737411,  178.71760464, 1549.10607955,  131.94098375,\n",
       "        342.36036938,  527.16610671, 1323.07037602,  704.7306023 ,\n",
       "         13.52956283,  115.35517427,  302.22519387,  454.73460612,\n",
       "        333.63211902,  130.95084124,  122.06191342,  122.0765016 ,\n",
       "        570.24023673,   98.36811577,  196.13063358,  124.15564155,\n",
       "        259.2930948 ,  104.05925684, 1097.30558711,   98.35841772,\n",
       "        121.6370885 ,  126.10123223,  482.85483582,  422.67279026,\n",
       "        137.14365705,  370.25472485,  634.29824488,  126.77043707,\n",
       "       1063.09258359,  305.19616553, 2469.06451813,  157.60030143,\n",
       "        362.81061554,  181.1061747 ,  399.51799787,  435.80721358,\n",
       "        172.21992303,  914.5682672 ,  865.5712628 ,  403.76484924,\n",
       "        121.17543976,  329.83341238,  315.60390965,  925.05300459,\n",
       "        248.966487  ,  135.42609163,  166.10997929,  228.82997723,\n",
       "         32.06402003,  242.82097493,  642.70899801,  269.38045184,\n",
       "       1301.60604848,  119.56048638,   98.62080321,  279.8104407 ,\n",
       "        140.00885524,  328.12968611,  174.82296573,  304.65915229,\n",
       "        414.10294732,  419.9044414 ,  171.4674681 ,   88.48970544,\n",
       "       1693.14019735,  102.18683691,  152.2283491 ,  124.78529618,\n",
       "        137.66274005,  344.54992947,  123.76135845,  113.98591316,\n",
       "        658.26502002,  164.46234733,  339.58816203,  250.44718378,\n",
       "        142.1202406 ,  320.3065632 ,  159.07677971,  985.69052037,\n",
       "        138.09272815,  678.58358786,  155.08228835,  632.29633225,\n",
       "        132.26207278,  102.71065646,  758.0834997 ,  235.76889325,\n",
       "        306.43505109,  293.27169642,  131.22127982,  136.29234551,\n",
       "        428.48595315,  197.1083169 ,  294.97478823])"
      ]
     },
     "execution_count": 38,
     "metadata": {},
     "output_type": "execute_result"
    }
   ],
   "source": [
    "ypred = linear_reg.predict(xts)\n",
    "ypred"
   ]
  },
  {
   "cell_type": "markdown",
   "id": "bd22aa9b",
   "metadata": {},
   "source": [
    "## evaluate the model accuracy used rsquare "
   ]
  },
  {
   "cell_type": "code",
   "execution_count": 40,
   "id": "e51e6c7b",
   "metadata": {},
   "outputs": [
    {
     "name": "stdout",
     "output_type": "stream",
     "text": [
      "R-squared Score for survival prediction in the titanic dataset is :  40 2\n"
     ]
    }
   ],
   "source": [
    "rsq = r2_score(y_test, y_pred)\n",
    "print(\"R-squared Score for survival prediction in the titanic dataset is : \", round(r_squared*100),2)"
   ]
  },
  {
   "cell_type": "code",
   "execution_count": null,
   "id": "e27bd95c",
   "metadata": {},
   "outputs": [],
   "source": []
  }
 ],
 "metadata": {
  "kernelspec": {
   "display_name": "Python 3 (ipykernel)",
   "language": "python",
   "name": "python3"
  },
  "language_info": {
   "codemirror_mode": {
    "name": "ipython",
    "version": 3
   },
   "file_extension": ".py",
   "mimetype": "text/x-python",
   "name": "python",
   "nbconvert_exporter": "python",
   "pygments_lexer": "ipython3",
   "version": "3.9.13"
  }
 },
 "nbformat": 4,
 "nbformat_minor": 5
}
